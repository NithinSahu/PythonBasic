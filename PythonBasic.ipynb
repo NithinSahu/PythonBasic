{
  "nbformat": 4,
  "nbformat_minor": 0,
  "metadata": {
    "colab": {
      "provenance": []
    },
    "kernelspec": {
      "name": "python3",
      "display_name": "Python 3"
    },
    "language_info": {
      "name": "python"
    }
  },
  "cells": [
    {
      "cell_type": "markdown",
      "source": [
        "# Python Basic"
      ],
      "metadata": {
        "id": "DG4UMbjx2rhn"
      }
    },
    {
      "cell_type": "markdown",
      "source": [
        "1. What is Python, and why is it popular?\n",
        "- Python is an easy-to-learn yet powerful Object Oriented Pragramming Language.\n",
        "- Python is popular for its Simple Syntax Rules, hence making it Programmer-Friendly.\n",
        "---\n",
        "2. What is an interpreter in Python ?\n",
        "- Python is an Interpreted programming language, An Interpreter simply means a type of code translator which translates the code to Machine Readable format line-by-line.\n",
        "---\n",
        "3. What are pre-defined keywords in Python?\n",
        "- Pre-Defined keywords are the those words which are defined by the Programming language and those words have a purpose.\n",
        "- Some of the pre-defined keywords in python are :\n",
        "  - True, False, in, not in, for, while etc.\n",
        "---\n",
        "4.  Can keywords be used as variable names?\n",
        "- Keywords cannot be used as Variable names.\n",
        "---\n",
        "5.  What is mutability in Python?\n",
        "- Mutability in Python means the ability to modify a specific Data Type.\n",
        "---\n",
        "6. Why are lists mutable, but tuples are immutable?\n",
        "- Lists are mutable (changeable) because they are designed for dynamic data storage, allowing modifications like adding, removing, or changing elements after creation.\n",
        "- Tuples, on the other hand, are immutable (unchangeable) for performance and data integrity reasons, ensuring a fixed sequence of data.\n",
        "---\n",
        "7. What is the difference between “==” and “is” operators in Python?\n",
        "- The == and is operators in Python serve different comparison purposes :\n",
        "  - The == operator checks for equality of value, while the is operator checks for identity.\n",
        "  - == : Evaluates whether the values of two operands are equal. It returns True if the values are the same and False otherwise.\n",
        "  - is : Evaluates whether two operands refer to the same object in memory. It returns True if they do and False if they don't, even if their values are the same.\n",
        "---\n",
        "8. What are logical operators in Python?\n",
        "- Logical operators in Python are used to combine or modify boolean values (True or False).\n",
        "- There are 3 main logical operators in Python:\n",
        "  - and\n",
        "  - or\n",
        "  - not\n",
        "---\n",
        "9. What is type casting in Python?\n",
        "- Type casting in python simply means changing the datatype of a particular variable, either Implicitly or Explicitly.\n",
        "---\n",
        "10. What is the difference between implicit and explicit type casting?\n",
        "- Implicit Type Casting (Coercion): This occurs automatically by the Python interpreter without any explicit instruction from the programmer. It usually happens when performing operations involving different data types, where Python attempts to avoid data loss. For example, when adding an integer and a float, Python implicitly converts the integer to a float before performing the addition.\n",
        "- Explicit Type Casting: This requires the programmer to manually convert a value from one data type to another using built-in functions like int(), float(), str(), etc. It is used when you need to convert a value to a specific data type, and Python won't do it automatically.\n",
        "---\n",
        "11. What is the purpose of conditional statements in Python?\n",
        "- The purpose of conditional statements in Python is to control the flow of execution of a program based on whether a certain condition is true or false, enabling programs to execute code.\n",
        "- There are 3 types of Conditional statements in python :    \n",
        "  - if\n",
        "  - elif\n",
        "  - else\n",
        "---\n",
        "12. How does the elif statement work?\n",
        "- The elif statements in Python works when there are multiple conditions to check. The flow goes from checking the if block, if the if block is false, then goes to the elif block, and similarly to the else block.\n",
        "---\n",
        "13. What is the difference between for and while loops?\n",
        "- The For loop iterates over a sequence (like a list, tuple, or string) or a range of numbers.\n",
        "- The number of iterations is typically known or can be determined before the loop starts.\n",
        "- The While loop repeatedly executes a block of code as long as a condition is true.\n",
        "- The number of iterations is determined by the condition, which can change during the loop's execution.\n",
        "---\n",
        "14.  Describe a scenario where a while loop is more suitable than a for loop.\n",
        "- A scenario where a while loop is more suitable than a for loop in Python is when the number of iterations is not known in advance and depends on a certain condition being met.\n",
        "- For example, consider a program that prompts the user to enter input until they type \"Quit\". A while loop is ideal for this situation because the loop needs to continue running until the user enters the specific word, and the number of times the loop runs is not predetermined.\n",
        "---\n",
        "\n"
      ],
      "metadata": {
        "id": "pEMl365b21e8"
      }
    },
    {
      "cell_type": "code",
      "source": [
        "#Practical Questions"
      ],
      "metadata": {
        "id": "2_BEt-o7xfqw"
      },
      "execution_count": null,
      "outputs": []
    },
    {
      "cell_type": "code",
      "execution_count": null,
      "metadata": {
        "id": "78q8IwB32moA"
      },
      "outputs": [],
      "source": [
        "#1. Write a Python program to print \"Hello, World!\n",
        "print(\"Hello, World!\")"
      ]
    },
    {
      "cell_type": "code",
      "source": [
        "#2. Write a Python program that displays your name and age.\n",
        "name = input(\"Enter your name : \")\n",
        "age = int(input(\"Enter your age : \"))\n",
        "print(\"Your name is\", name, \"and your age is\", age)"
      ],
      "metadata": {
        "colab": {
          "base_uri": "https://localhost:8080/"
        },
        "id": "rDApaaLL8GjD",
        "outputId": "8fabbfea-3e6a-4be5-c88c-8236409780d5"
      },
      "execution_count": 4,
      "outputs": [
        {
          "output_type": "stream",
          "name": "stdout",
          "text": [
            "Enter your name : Nithin Sahu\n",
            "Enter your age : 18\n",
            "Your name is Nithin Sahu and your age is 18\n"
          ]
        }
      ]
    },
    {
      "cell_type": "code",
      "source": [
        "#3. Write code to print all the pre-defined keywords in Python using the keyword library.\n",
        "import keyword\n",
        "print(keyword.kwlist)"
      ],
      "metadata": {
        "colab": {
          "base_uri": "https://localhost:8080/"
        },
        "id": "_2IOnluk8G65",
        "outputId": "66050a16-52cf-4ef6-b7b6-1adca5c1101e"
      },
      "execution_count": 5,
      "outputs": [
        {
          "output_type": "stream",
          "name": "stdout",
          "text": [
            "['False', 'None', 'True', 'and', 'as', 'assert', 'async', 'await', 'break', 'class', 'continue', 'def', 'del', 'elif', 'else', 'except', 'finally', 'for', 'from', 'global', 'if', 'import', 'in', 'is', 'lambda', 'nonlocal', 'not', 'or', 'pass', 'raise', 'return', 'try', 'while', 'with', 'yield']\n"
          ]
        }
      ]
    },
    {
      "cell_type": "code",
      "source": [
        "#4. Write a program that checks if a given word is a Python keyword.\n",
        "import keyword\n",
        "word = input(\"Enter a word : \")\n",
        "if keyword.iskeyword(word):\n",
        "    print(word, \"is a Python keyword\")\n",
        "else:\n",
        "    print(word, \"is not a Python keyword\")"
      ],
      "metadata": {
        "colab": {
          "base_uri": "https://localhost:8080/"
        },
        "id": "EM5L083m8HOM",
        "outputId": "26ba0283-299e-4f34-8548-b785fc30b0cb"
      },
      "execution_count": 6,
      "outputs": [
        {
          "output_type": "stream",
          "name": "stdout",
          "text": [
            "Enter a word : is\n",
            "is is a Python keyword\n"
          ]
        }
      ]
    },
    {
      "cell_type": "code",
      "source": [
        "#5. Create a list and tuple in Python, and demonstrate how attempting to change an element works differently for each.\n",
        "List1 = [1,2,3,4,5]\n",
        "Tuple1 = (1,2,3,4,5)\n",
        "List1[0] = 10\n",
        "try :\n",
        "  Tuple1[0] = 10\n",
        "except :\n",
        "  print(\"Tuple is immutable\")"
      ],
      "metadata": {
        "colab": {
          "base_uri": "https://localhost:8080/"
        },
        "id": "wwC07FEv8Hgp",
        "outputId": "ed0ac3fd-0d6d-4120-f54a-c83e86f4b544"
      },
      "execution_count": 8,
      "outputs": [
        {
          "output_type": "stream",
          "name": "stdout",
          "text": [
            "Tuple is immutable\n"
          ]
        }
      ]
    },
    {
      "cell_type": "code",
      "source": [
        "#6. Write a function to demonstrate the behavior of mutable and immutable arguments.\n",
        "\n",
        "def demonstrate_mutable_immutable():\n",
        "    def modify_immutable(arg):\n",
        "        print(f\"Before modification (immutable): {arg}\")\n",
        "        arg += 10  # This creates a new integer object\n",
        "        print(f\"After modification (immutable): {arg}\")\n",
        "\n",
        "    def modify_mutable(arg):\n",
        "        print(f\"Before modification (mutable): {arg}\")\n",
        "        arg.append(4)  # Modifies the original list\n",
        "        print(f\"After modification (mutable): {arg}\")\n",
        "\n",
        "    # Immutable example (integer)\n",
        "    num = 5\n",
        "    print(\"\\nImmutable example (Integer):\")\n",
        "    modify_immutable(num)\n",
        "    print(f\"Outside function (immutable): {num}\")  # Still 5\n",
        "\n",
        "    # Mutable example (list)\n",
        "    lst = [1, 2, 3]\n",
        "    print(\"\\nMutable example (List):\")\n",
        "    modify_mutable(lst)\n",
        "    print(f\"Outside function (mutable): {lst}\")  # Modified list\n",
        "\n",
        "demonstrate_mutable_immutable()\n"
      ],
      "metadata": {
        "colab": {
          "base_uri": "https://localhost:8080/"
        },
        "id": "zawDRbTt8IZS",
        "outputId": "f0482c03-3b6e-4818-c0c4-7cc540b4a9d4"
      },
      "execution_count": 12,
      "outputs": [
        {
          "output_type": "stream",
          "name": "stdout",
          "text": [
            "\n",
            "Immutable example (Integer):\n",
            "Before modification (immutable): 5\n",
            "After modification (immutable): 15\n",
            "Outside function (immutable): 5\n",
            "\n",
            "Mutable example (List):\n",
            "Before modification (mutable): [1, 2, 3]\n",
            "After modification (mutable): [1, 2, 3, 4]\n",
            "Outside function (mutable): [1, 2, 3, 4]\n"
          ]
        }
      ]
    },
    {
      "cell_type": "code",
      "source": [
        "#7. Write a program that performs basic arithmetic operations on two user-input numbers.\n",
        "num1 = int(input(\"Enter first number : \"))\n",
        "num2 = int(input(\"Enter second number : \"))\n",
        "print(\"Addition of\", num1, \"and\", num2, \"is\", num1+num2)\n",
        "print(\"Subtraction of\", num1, \"and\", num2, \"is\", num1-num2)\n",
        "print(\"Multiplication of\", num1, \"and\", num2, \"is\", num1*num2)\n",
        "print(\"Division of\", num1, \"and\", num2, \"is\", num1/num2)\n",
        "print(\"Floor Division of\", num1, \"and\", num2, \"is\", num1//num2)\n",
        "print(\"Modulus of\", num1, \"and\", num2, \"is\", num1%num2)\n",
        "print(\"Exponent of\", num1, \"and\", num2, \"is\", num1**num2)"
      ],
      "metadata": {
        "colab": {
          "base_uri": "https://localhost:8080/"
        },
        "id": "Bjtj05Or8IoB",
        "outputId": "f889c317-e9be-41d8-a44c-ad14558747f8"
      },
      "execution_count": 13,
      "outputs": [
        {
          "output_type": "stream",
          "name": "stdout",
          "text": [
            "Enter first number : 3\n",
            "Enter second number : 5\n",
            "Addition of 3 and 5 is 8\n",
            "Subtraction of 3 and 5 is -2\n",
            "Multiplication of 3 and 5 is 15\n",
            "Division of 3 and 5 is 0.6\n",
            "Floor Division of 3 and 5 is 0\n",
            "Modulus of 3 and 5 is 3\n",
            "Exponent of 3 and 5 is 243\n"
          ]
        }
      ]
    },
    {
      "cell_type": "code",
      "source": [
        "#8. Write a program to demonstrate the use of logical operators.\n",
        "e1 = True\n",
        "e2 = False\n",
        "print(\"Logical AND of\", e1, \"and\", e2, \"is\", e1 and e2)\n",
        "print(\"Logical OR of\", e1, \"and\", e2, \"is\", e1 or e2)\n",
        "print(\"Logical NOT of\", e1, \"is\", not e1)"
      ],
      "metadata": {
        "colab": {
          "base_uri": "https://localhost:8080/"
        },
        "id": "Ge3GsY-M8JA7",
        "outputId": "e4f7af9d-d318-4103-aeed-129a08f49ff7"
      },
      "execution_count": 16,
      "outputs": [
        {
          "output_type": "stream",
          "name": "stdout",
          "text": [
            "Logical AND of True and False is False\n",
            "Logical OR of True and False is True\n",
            "Logical NOT of True is False\n"
          ]
        }
      ]
    },
    {
      "cell_type": "code",
      "source": [
        "#9. Write a Python program to convert user input from string to integer, float, and boolean types.\n",
        "string = input(\"Enter a Number : \")\n",
        "print(\"String to Integer : \", int(string))\n",
        "print(\"String to Float : \", float(string))\n",
        "print(\"String to Boolean : \", bool(string))"
      ],
      "metadata": {
        "colab": {
          "base_uri": "https://localhost:8080/"
        },
        "id": "A_n0U0-FBdPa",
        "outputId": "59aa7bc1-aa52-42b1-9046-58c4a933c592"
      },
      "execution_count": 20,
      "outputs": [
        {
          "output_type": "stream",
          "name": "stdout",
          "text": [
            "Enter a Number : 59\n",
            "String to Integer :  59\n",
            "String to Float :  59.0\n",
            "String to Boolean :  True\n"
          ]
        }
      ]
    },
    {
      "cell_type": "code",
      "source": [
        "#10.  Write code to demonstrate type casting with list elements.\n",
        "list1 = [1,'Two',3,'Four',5]\n",
        "print(\"List to String : \", str(list1))\n",
        "print(\"List to Tuple : \", tuple(list1))\n",
        "print(\"List to Set : \", set(list1))"
      ],
      "metadata": {
        "colab": {
          "base_uri": "https://localhost:8080/"
        },
        "id": "bAbL6szNBdFj",
        "outputId": "873a1864-72d5-492e-d20b-9f01d7dd3890"
      },
      "execution_count": 22,
      "outputs": [
        {
          "output_type": "stream",
          "name": "stdout",
          "text": [
            "List to String :  [1, 'Two', 3, 'Four', 5]\n",
            "List to Tuple :  (1, 'Two', 3, 'Four', 5)\n",
            "List to Set :  {1, 3, 5, 'Two', 'Four'}\n"
          ]
        }
      ]
    },
    {
      "cell_type": "code",
      "source": [
        "#11. Write a program that checks if a number is positive, negative, or zero\n",
        "n = int(input(\"Enter a number : \"))\n",
        "if n > 0:\n",
        "  print(n, \"is a positive number\")\n",
        "elif n < 0:\n",
        "  print(n, \"is a negative number\")\n",
        "else:\n",
        "  print(n, \"is zero\")"
      ],
      "metadata": {
        "colab": {
          "base_uri": "https://localhost:8080/"
        },
        "id": "-22fKLucBcuU",
        "outputId": "b1ca0207-bc76-4004-9137-7e4ac81a6e5a"
      },
      "execution_count": 34,
      "outputs": [
        {
          "output_type": "stream",
          "name": "stdout",
          "text": [
            "Enter a number : 4\n",
            "4 is a positive number\n"
          ]
        }
      ]
    },
    {
      "cell_type": "code",
      "source": [
        "#12. Write a for loop to print numbers from 1 to 10.\n",
        "for i in range(1, 11):\n",
        "  print(i)"
      ],
      "metadata": {
        "colab": {
          "base_uri": "https://localhost:8080/"
        },
        "id": "dnk8r6TbEngt",
        "outputId": "6e63473e-62a6-4732-9469-8cb3f4ed6fc4"
      },
      "execution_count": 37,
      "outputs": [
        {
          "output_type": "stream",
          "name": "stdout",
          "text": [
            "1\n",
            "2\n",
            "3\n",
            "4\n",
            "5\n",
            "6\n",
            "7\n",
            "8\n",
            "9\n",
            "10\n"
          ]
        }
      ]
    },
    {
      "cell_type": "code",
      "source": [
        "#13. Write a Python program to find the sum of all even numbers between 1 and 50.\n",
        "sum=0\n",
        "for i in range(1, 50):\n",
        "  if (i%2 == 0):  #checks if odd\n",
        "    sum+=i        #adds to the sum\n",
        "  else:\n",
        "    pass\n",
        "print(\"The Sum of all even numbers between 1 and 50 is\", sum)\n",
        "#outputs 600.\n",
        "#if the Question was to find the sum of all even numbers from 1 and 50,\n",
        "#then the output would be 650."
      ],
      "metadata": {
        "colab": {
          "base_uri": "https://localhost:8080/"
        },
        "id": "HwbOC6fEE9bu",
        "outputId": "36399e75-79e1-4f19-cb1e-66eecef684c3"
      },
      "execution_count": 42,
      "outputs": [
        {
          "output_type": "stream",
          "name": "stdout",
          "text": [
            "The Sum of all even numbers between 1 and 50 is 600\n"
          ]
        }
      ]
    },
    {
      "cell_type": "code",
      "source": [
        "#14. Write a program to reverse a string using a while loop.\n",
        "String1 = \"Nithin\"\n",
        "reversed_str = \"\"\n",
        "i = len(String1)\n",
        "while i:\n",
        "    i -= 1\n",
        "    reversed_str += String1[i]\n",
        "print(\"Reversed String:\", reversed_str)"
      ],
      "metadata": {
        "colab": {
          "base_uri": "https://localhost:8080/"
        },
        "id": "fCFAkLxJHibN",
        "outputId": "46037a58-b9b8-4607-d69a-989b26db45ba"
      },
      "execution_count": 47,
      "outputs": [
        {
          "output_type": "stream",
          "name": "stdout",
          "text": [
            "Reversed String: nihtiN\n"
          ]
        }
      ]
    },
    {
      "cell_type": "code",
      "source": [
        "#15. Write a Python program to calculate the factorial of a number provided by the user using a while loop.\n",
        "n = int(input(\"Enter a number : \"))\n",
        "factorial = 1\n",
        "i = 1\n",
        "while i <= n:\n",
        "  factorial *= i\n",
        "  i += 1\n",
        "print(\"The factorial of\", n, \"is\", factorial)"
      ],
      "metadata": {
        "colab": {
          "base_uri": "https://localhost:8080/"
        },
        "id": "32GNm3EWI1Jr",
        "outputId": "64e03b8e-f8da-40d9-aab1-6aa521bfde13"
      },
      "execution_count": 49,
      "outputs": [
        {
          "output_type": "stream",
          "name": "stdout",
          "text": [
            "Enter a number : 8\n",
            "The factorial of 8 is 40320\n"
          ]
        }
      ]
    }
  ]
}